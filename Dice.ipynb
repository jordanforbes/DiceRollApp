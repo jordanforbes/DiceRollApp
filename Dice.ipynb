{
 "cells": [
  {
   "cell_type": "code",
   "execution_count": 1,
   "metadata": {},
   "outputs": [
    {
     "ename": "NameError",
     "evalue": "name 'ch' is not defined",
     "output_type": "error",
     "traceback": [
      "\u001b[1;31m---------------------------------------------------------------------------\u001b[0m",
      "\u001b[1;31mNameError\u001b[0m                                 Traceback (most recent call last)",
      "\u001b[1;32mc:\\Users\\Jordf\\OneDrive\\coding\\python\\DiceRoller\\Dice.ipynb Cell 1'\u001b[0m in \u001b[0;36m<cell line: 8>\u001b[1;34m()\u001b[0m\n\u001b[0;32m      <a href='vscode-notebook-cell:/c%3A/Users/Jordf/OneDrive/coding/python/DiceRoller/Dice.ipynb#ch0000000?line=5'>6</a>\u001b[0m name \u001b[39m=\u001b[39m \u001b[39m\"\u001b[39m\u001b[39mJohn\u001b[39m\u001b[39m\"\u001b[39m\n\u001b[0;32m      <a href='vscode-notebook-cell:/c%3A/Users/Jordf/OneDrive/coding/python/DiceRoller/Dice.ipynb#ch0000000?line=6'>7</a>\u001b[0m race \u001b[39m=\u001b[39m \u001b[39m\"\u001b[39m\u001b[39mHuman\u001b[39m\u001b[39m\"\u001b[39m\n\u001b[1;32m----> <a href='vscode-notebook-cell:/c%3A/Users/Jordf/OneDrive/coding/python/DiceRoller/Dice.ipynb#ch0000000?line=7'>8</a>\u001b[0m player1 \u001b[39m=\u001b[39m ch\u001b[39m.\u001b[39mCharacterClass(name,race)\n\u001b[0;32m      <a href='vscode-notebook-cell:/c%3A/Users/Jordf/OneDrive/coding/python/DiceRoller/Dice.ipynb#ch0000000?line=8'>9</a>\u001b[0m player1\u001b[39m.\u001b[39mshowStats()\n\u001b[0;32m     <a href='vscode-notebook-cell:/c%3A/Users/Jordf/OneDrive/coding/python/DiceRoller/Dice.ipynb#ch0000000?line=10'>11</a>\u001b[0m \u001b[39mdef\u001b[39;00m \u001b[39malert\u001b[39m(msg):\n",
      "\u001b[1;31mNameError\u001b[0m: name 'ch' is not defined"
     ]
    }
   ],
   "source": [
    "import PySimpleGUI as sg\n",
    "\n",
    "sg.theme('DarkTeal4')\n",
    "\n",
    "\n",
    "name = \"John\"\n",
    "race = \"Human\"\n",
    "player1 = ch.CharacterClass(name,race)\n",
    "player1.showStats()\n",
    "\n",
    "def alert(msg):\n",
    "    sg.popup(alert)\n",
    "\n",
    "layout = [  \n",
    "                [sg.Text('Name: '+player1.name)], \n",
    "                [sg.Text('Race: '+player1.race)], \n",
    "                \n",
    "                [sg.Text('Strength:'), sg.Text(player1.stre, k='-STRE-')],\n",
    "                [sg.Text('Dexterity:'), sg.Text(player1.dext, k='-DEXT-')],\n",
    "                [sg.Text('Constitution:'), sg.Text(player1.cons, k='-CONS-')],\n",
    "                [sg.Text('Intelligence:'), sg.Text(player1.inte, k='-INTE-')],\n",
    "                [sg.Text('Wisdom:'), sg.Text(player1.wisd, k='-WISD-')],\n",
    "                [sg.Text('Charisma:'), sg.Text(player1.char, k='-CHAR-')],\n",
    "\n",
    "                [sg.Button('re-roll stats', key='-REROLL-')],\n",
    "                [sg.Button('Close')],\n",
    "                \n",
    "                \n",
    "            ]\n",
    "  \n",
    "window = sg.Window('STATS').Layout(layout)\n",
    "\n",
    "while True:\n",
    "    event, values = window.Read()\n",
    "    if event == '-UP-':\n",
    "        \n",
    "        n+=1\n",
    "        window['-COUNTER-'].update(n)\n",
    "        \n",
    "    if event =='-REROLL-':\n",
    "        player1.reRollStats()\n",
    "        window['-STRE-'].update(player1.stre)\n",
    "        window['-DEXT-'].update(player1.dext)\n",
    "        window['-CONS-'].update(player1.cons)\n",
    "        window['-INTE-'].update(player1.inte)\n",
    "        window['-WISD-'].update(player1.wisd)\n",
    "        window['-CHAR-'].update(player1.char)\n",
    "    if event == sg.WIN_CLOSED or event == 'Close':\n",
    "        break\n",
    "    \n",
    "window.close()"
   ]
  },
  {
   "cell_type": "code",
   "execution_count": 7,
   "metadata": {},
   "outputs": [
    {
     "name": "stdout",
     "output_type": "stream",
     "text": [
      "3\n"
     ]
    }
   ],
   "source": [
    "from random import randint \n",
    "\n",
    "\n",
    "class Dice:\n",
    "\n",
    "    @staticmethod\n",
    "    def rollDie(die):\n",
    "        return randint(1,die)\n",
    "    \n",
    "    @staticmethod\n",
    "    def D6():\n",
    "        return rollDie(6)\n",
    "\n",
    "print(Dice.D6())\n"
   ]
  },
  {
   "cell_type": "code",
   "execution_count": 13,
   "metadata": {},
   "outputs": [],
   "source": [
    "import PySimpleGUI as sg\n",
    "\n",
    "sg.theme('DarkTeal4')\n",
    "roll=\"-\"\n",
    "\n",
    "layout=[\n",
    "        [sg.Text(\"Roll:\"),sg.Text(roll,k='-RESULT-')],\n",
    "        [sg.Button(\"D6\",k='-ROLL-')]\n",
    "        ]\n",
    "window = sg.Window('DICE ROLLER').Layout(layout)\n",
    "\n",
    "while True:\n",
    "        event, values = window.Read()\n",
    "        if event == sg.WIN_CLOSED or event == 'Close':\n",
    "                break \n",
    "        if event == '-ROLL-':\n",
    "                roll=Dice.D6()\n",
    "                window['-RESULT-'].update(roll)\n",
    "window.close()\n",
    "    \n",
    "        "
   ]
  }
 ],
 "metadata": {
  "interpreter": {
   "hash": "179fbfc1336d5405ac7b706d3dc17bb7572a11647f234436ffdd773c93716b2f"
  },
  "kernelspec": {
   "display_name": "Python 3.9.12 64-bit (windows store)",
   "language": "python",
   "name": "python3"
  },
  "language_info": {
   "codemirror_mode": {
    "name": "ipython",
    "version": 3
   },
   "file_extension": ".py",
   "mimetype": "text/x-python",
   "name": "python",
   "nbconvert_exporter": "python",
   "pygments_lexer": "ipython3",
   "version": "3.9.12"
  },
  "orig_nbformat": 4
 },
 "nbformat": 4,
 "nbformat_minor": 2
}
