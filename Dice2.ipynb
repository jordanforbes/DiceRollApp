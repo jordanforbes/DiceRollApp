{
 "cells": [
  {
   "cell_type": "code",
   "execution_count": 9,
   "metadata": {},
   "outputs": [
    {
     "name": "stdout",
     "output_type": "stream",
     "text": [
      "4\n",
      "True\n"
     ]
    }
   ],
   "source": [
    "import PySimpleGUI as sg\n",
    "from random import randint \n",
    "\n",
    "\n",
    "#basic dice roller function\n",
    "def d(die):\n",
    "    return randint(1,die)\n",
    "\n",
    "\n",
    "#gui\n",
    "sg.theme('DarkTeal4')\n",
    "roll=\"-\"\n",
    "total=0\n",
    "add= False\n",
    "\n",
    "layout=[\n",
    "            [sg.Text(\"Roll:\"),sg.Text(roll,k='-RESULT-')],\n",
    "            [sg.Text(\"Total:\"),sg.Text(total,k='-TOTAL-')],\n",
    "            [\n",
    "                sg.Button(\"D6\",k='-D6-'),\n",
    "                sg.Button(\"D10\",k='-D10-'),\n",
    "                sg.Button(\"D20\",k='-D20-')\n",
    "            ],\n",
    "            [sg.Button(\"+\",k=\"-ADD-\"), sg.Text(\"add?: \",add)]\n",
    "        ]\n",
    "window = sg.Window('DICE ROLLER').Layout(layout)\n",
    "\n",
    "#loop\n",
    "while True:\n",
    "        event, values = window.Read()\n",
    "        if event == sg.WIN_CLOSED or event == 'Close':\n",
    "                break \n",
    "            \n",
    "        if event == '-ADD-':\n",
    "            if add == False:\n",
    "                add = True\n",
    "                print(add)\n",
    "            else: \n",
    "                add = False\n",
    "                print(add)\n",
    "                \n",
    "        if event == '-D6-':\n",
    "                roll=d(6)\n",
    "                total += roll\n",
    "                \n",
    "                print(roll)\n",
    "                \n",
    "        if event == '-D10-':\n",
    "                roll=d(10)\n",
    "                total += roll\n",
    "\n",
    "                \n",
    "        if event == '-D20-':\n",
    "                roll=d(20)\n",
    "                total += roll\n",
    "                \n",
    "        if add == False:\n",
    "            total = 0\n",
    "        window['-RESULT-'].update(roll)\n",
    "        window['-TOTAL-'].update(total)\n",
    "\n",
    "window.close()"
   ]
  },
  {
   "cell_type": "markdown",
   "metadata": {},
   "source": [
    "create an add button, while button is pressed, dice rolls will add to the result instead of replacing them"
   ]
  }
 ],
 "metadata": {
  "interpreter": {
   "hash": "179fbfc1336d5405ac7b706d3dc17bb7572a11647f234436ffdd773c93716b2f"
  },
  "kernelspec": {
   "display_name": "Python 3.9.12 64-bit (windows store)",
   "language": "python",
   "name": "python3"
  },
  "language_info": {
   "codemirror_mode": {
    "name": "ipython",
    "version": 3
   },
   "file_extension": ".py",
   "mimetype": "text/x-python",
   "name": "python",
   "nbconvert_exporter": "python",
   "pygments_lexer": "ipython3",
   "version": "3.9.12"
  },
  "orig_nbformat": 4
 },
 "nbformat": 4,
 "nbformat_minor": 2
}
